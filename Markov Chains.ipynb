{
 "cells": [
  {
   "cell_type": "markdown",
   "metadata": {},
   "source": [
    "# Markov Chains\n",
    "\n",
    "The idea is to build a table that captures the words after a specific word, but we also need the probability for each word. As a first solution we can just save all the words, repeating them, that in the end is like a probability because if one is in the list more often it has more chance to be chosen. This is space iniefficient, but it is fine for the first approach. \n",
    "\n",
    "Inspired from: http://www.cyber-omelette.com/2017/01/markov.html\n",
    "\n",
    "Steps: \n",
    "1. We read the text and remove uneccessary characters\n",
    "2. We generate the chain (dictionary) with the words, and the links to the next word\n",
    "3. We generate new text by starting on a specific word"
   ]
  },
  {
   "cell_type": "code",
   "execution_count": 163,
   "metadata": {},
   "outputs": [],
   "source": [
    "import random\n",
    "\n",
    "# Function that creates the dictionary with the words and frequencies\n",
    "def generate_model(text):\n",
    "    i=0\n",
    "    chain={}\n",
    "    words=text.split()\n",
    "    max_length = len(words)\n",
    "    for word in words:        \n",
    "        # Checking for the end of the text\n",
    "        if ((i+1) < max_length):\n",
    "            if word in chain:\n",
    "                chain[word].append(words[i+1])\n",
    "            else:\n",
    "                chain[word] = [words[i+1]]\n",
    "            i+=1\n",
    "        else:\n",
    "            chain[word] = [\"\"]\n",
    "    return chain\n",
    "   \n",
    "# Function to get the initial state for the phrase.\n",
    "# 1st approach: random\n",
    "# 2nd approach: First random word that starts with Capital letter\n",
    "def get_initial_state(model):\n",
    "    # Random\n",
    "#     initial_state=list(model)[random.randint(0,len(model)-1)]\n",
    "    \n",
    "    # Capital letter\n",
    "    initial_state=\" \"\n",
    "    while initial_state[0].isupper()==False:\n",
    "        initial_state = list(model)[random.randint(0,len(model)-1)]\n",
    "        \n",
    "    return initial_state\n",
    "    \n",
    "# Function that generates the text. Question is: Where do we start? \n",
    "# Let's start with a random word. Then we can change that. \n",
    "# Initial state can be: A word that starts with a capital letter\n",
    "def generate_text(model, length):\n",
    "    initial_state=get_initial_state(model)\n",
    "    text=[initial_state]\n",
    "    current_state=initial_state\n",
    "    for i in range(0,length-1):\n",
    "        list_of_words = model[current_state]\n",
    "        word = list_of_words[random.randint(0,len(list_of_words)-1)]\n",
    "        text.append(word)\n",
    "        current_state=word\n",
    "    return text\n",
    "  \n",
    "def read_file(file):\n",
    "    with open(file, 'r') as myfile:\n",
    "        data = myfile.read()\n",
    "        data=data.replace(',', '')\n",
    "        data=data.replace('\\n',' ')\n",
    "        data=data.replace('   ', ' ')\n",
    "        data=data.replace('«', '')\n",
    "        data=data.replace('»', '')\n",
    "    return data\n"
   ]
  },
  {
   "cell_type": "code",
   "execution_count": 165,
   "metadata": {},
   "outputs": [
    {
     "name": "stdout",
     "output_type": "stream",
     "text": [
      "Cruzadas —tal y resistencia[1]. Si bien documentado en relación entre la Iglesia no se presentaban como trabajadoras de vida en la reproducción de sus esclavos. Además se ha vendido fundido en la tierra. Entre el conflicto provenía del día de la pobreza y el desarrollo de la reproducción comenzó a partir de otro? […] a sus actividades y la faz de una condición y el modelo cartesiano de la transición al desarrollo de subordinación. De este modo muy precaria posición social la revuelta. Con su propio autónomo opera a una disciplina del Vaticano (Bono 1999: 6-8). La politización de una\n"
     ]
    }
   ],
   "source": [
    "# Example with Silvia Federici: Caliban Y La Bruja, Spanish\n",
    "\n",
    "text = read_file(\"federici.txt\")\n",
    "desired_length = 100\n",
    "if __name__ == \"__main__\":\n",
    "    model = generate_model(text)\n",
    "    generated_text = generate_text(model,desired_length)\n",
    "    print(\" \".join(generated_text))"
   ]
  },
  {
   "cell_type": "code",
   "execution_count": null,
   "metadata": {
    "collapsed": true
   },
   "outputs": [],
   "source": []
  },
  {
   "cell_type": "code",
   "execution_count": null,
   "metadata": {
    "collapsed": true
   },
   "outputs": [],
   "source": []
  }
 ],
 "metadata": {
  "kernelspec": {
   "display_name": "Python 3",
   "language": "python",
   "name": "python3"
  },
  "language_info": {
   "codemirror_mode": {
    "name": "ipython",
    "version": 3
   },
   "file_extension": ".py",
   "mimetype": "text/x-python",
   "name": "python",
   "nbconvert_exporter": "python",
   "pygments_lexer": "ipython3",
   "version": "3.6.3"
  }
 },
 "nbformat": 4,
 "nbformat_minor": 2
}
