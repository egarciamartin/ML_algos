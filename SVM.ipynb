{
 "cells": [
  {
   "cell_type": "markdown",
   "metadata": {},
   "source": [
    "# Coding basic machine learning algorithms in python\n",
    "**Eva Garcia-Martin**\n",
    "\n",
    "\n",
    "## Support Vector Machines\n",
    "Support Vector Machines (SVMs) are a kind of geometric machine learning algorithms that find the separating hyperplane between two classes. It was initially designed for binary classification problems, and was later extended to multi-class classification. The goal is to choose the hyperplane with the largest margin between both classes. This, in theory, would give a better classification accuracy for new instances.\n",
    "\n",
    "Original authors: C. Cortes and V. Vapnik. “Support-vector networks”. In: Machine learning 20.3 (1995), pp. 273–297.\n",
    "\n",
    "Explanation taken from: García-Martín, E. (2017). Extraction and Energy Efficient Processing of Streaming Data (Licentiate dissertation). Karlskrona. Retrieved from http://urn.kb.se/resolve?urn=urn:nbn:se:bth-15532\n"
   ]
  },
  {
   "cell_type": "code",
   "execution_count": null,
   "metadata": {
    "collapsed": true
   },
   "outputs": [],
   "source": []
  }
 ],
 "metadata": {
  "kernelspec": {
   "display_name": "Python 3",
   "language": "python",
   "name": "python3"
  },
  "language_info": {
   "codemirror_mode": {
    "name": "ipython",
    "version": 3
   },
   "file_extension": ".py",
   "mimetype": "text/x-python",
   "name": "python",
   "nbconvert_exporter": "python",
   "pygments_lexer": "ipython3",
   "version": "3.6.3"
  }
 },
 "nbformat": 4,
 "nbformat_minor": 2
}
